{
 "cells": [
  {
   "cell_type": "markdown",
   "metadata": {},
   "source": [
    "# MicaSense Image Processing Setup\n",
    "\n",
    "## Overview\n",
    "\n",
    "This series of tutorials will be a walk through on how to process RedEdge data from raw images through conversion to reflectance. We will cover the tools required to do this, and walk through some of the basic image processing and radiometric conversions. \n",
    "\n",
    "## System Requirements\n",
    "\n",
    "Our tutorials are written using Python3.  Python has great library support for image processing through libraries such as OpenCV, SciKit Image, and others.  In this tutorial, we'll use python, OpenCV, numpy, and matplotlib, as well as the standalone exiftool and it's python wrapper to open and manipulate RedEdge images to transform raw digital number values into quantitative reflectance. Python 2.7 can also work fine for this tutorial, but later tutorials use some extra libraries that are only supported in Python3 (specifically pysolar), so we recommend that if you're starting with python from scratch to install Python3.\n",
    "\n",
    "This tutorial has been tested on Windows and Linux. It is likely to work on other platforms, especially unix-based platforms like OSX, but you will have to do the legwork to get the required software installed and working.\n",
    "\n",
    "### Software/Libraries\n",
    "\n",
    "The following softare and libraries are required for this tutorial:\n",
    "\n",
    "* [python](https://www.python.org/downloads/release/python-363/) or [Anaconda](https://www.anaconda.com/download/) for Windows\n",
    "* [numpy](https://www.numpy.org/)\n",
    "* [openCV](https://opencv.org/releases.html)\n",
    "* [matplotlib](https://matplotlib.org/users/installing.html)\n",
    "* [exiftool](https://www.sno.phy.queensu.ca/~phil/exiftool/)\n",
    "* [pyexiftool](https://github.com/smarnach/pyexiftool)\n",
    "\n",
    "### Linux (Debian/Ubuntu)\n",
    "\n",
    "Some or all of these commands my need to be run as an administrator by adding `sudo` in front depending on your system:\n",
    "```\n",
    "apt-get install python3\n",
    "apt-get install pip3\n",
    "apt-get install exiftool\n",
    "pip install numpy\n",
    "pip install matplotlib\n",
    "git clone git://github.com/smarnach/pyexiftool.git\n",
    "cd pyexiftool\n",
    "python setup.py install\n",
    "```\n",
    "The installation of OpenCV is a bit more involved, as Python3 bindings may not be available on your system. One approach is to follow the script available [here](https://milq.github.io/install-opencv-ubuntu-debian/) to install from sources.  \n",
    "\n",
    "### Windows setup\n",
    "\n",
    "When installing on Windows we rely on the [Anaconda](https://www.anaconda.com/download/) python environment to do most of the heavy lifting for us.\n",
    "\n",
    "* Install [Anaconda](https://www.anaconda.com/download/) for your system by downloading the **Python 3.6** version\n",
    "\n",
    " * When installing Anaconda, choose **\"install for only me\"** instead of \"install for all users,\" as this simplifies installation of other packages\n",
    "\n",
    "\n",
    "* Download the [exiftool windows package](https://www.sno.phy.queensu.ca/~phil/exiftool/) and unzip it to a permanent location such as `c:\\exiftool\\`\n",
    "\n",
    "\n",
    "* Open an Anaconda console from the start menu as an administrator by clicking `Start->Anaconda`, right-click `Anaconda Console`, choose `Run as Administrator`. Execute the following commands in the anaconda console:\n",
    "\n",
    " * `pip install -U numpy` to update numpy to the latest version\n",
    " \n",
    " * `conda install -c conda-forge opencv` to install the opencv python bindings and binaries\n",
    " \n",
    " * `git clone git://github.com/smarnach/pyexiftool.git` if you have `git`, otherwise download the zip file from [here](https://github.com/smarnach/pyexiftool/archive/master.zip) and unzip to a temporary directory\n",
    " \n",
    " * `cd` to the directory where you checked out `pyexiftool` and run `python setup.py install`\n",
    "\n",
    "\n",
    "### Testing Installation\n",
    "\n",
    "The following python snippet can be run from a jupyter notebook, inside iPython, or by saving to a script and running from the command line.  If you're on windows, set the location of exiftool.  If this succeeds, your system is ready to go! If not, check the installation documentation for the module import that is having issues.\n"
   ]
  },
  {
   "cell_type": "code",
   "execution_count": null,
   "metadata": {
    "collapsed": true
   },
   "outputs": [],
   "source": [
    "import cv2 #openCV\n",
    "import exiftool\n",
    "import numpy as np\n",
    "import matplotlib.pyplot as plt\n",
    "import os\n",
    "%matplotlib inline\n",
    "\n",
    "exiftoolPath = None\n",
    "if os.name == 'nt':\n",
    "    exiftoolPath = 'C:/exiftool/exiftool.exe'\n",
    "with exiftool.ExifTool(exiftoolPath) as exift:\n",
    "    print('Exiftool works!')\n",
    "\n",
    "# Use pyplot to load an example image and display with matplotlib\n",
    "imageName = os.path.join('.','data','0000SET','000','IMG_0000_4.tif')\n",
    "imageRaw=plt.imread(imageName).T\n",
    "plt.imshow(imageRaw.T, cmap='gray')\n",
    "plt.show()\n",
    "\n",
    "print('Success! Now you are ready for Part 1 of the tutorial.')"
   ]
  },
  {
   "cell_type": "markdown",
   "metadata": {},
   "source": [
    "---\n",
    "Copyright (c) 2017 MicaSense, Inc.  For licensing information see the [project git repository](https://github.com/micasense/imageprocessing)"
   ]
  }
 ],
 "metadata": {
  "kernelspec": {
   "display_name": "Python 2",
   "language": "python",
   "name": "python2"
  },
  "language_info": {
   "codemirror_mode": {
    "name": "ipython",
    "version": 2
   },
   "file_extension": ".py",
   "mimetype": "text/x-python",
   "name": "python",
   "nbconvert_exporter": "python",
   "pygments_lexer": "ipython2",
   "version": "2.7.6"
  }
 },
 "nbformat": 4,
 "nbformat_minor": 2
}
